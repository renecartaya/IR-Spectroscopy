{
 "cells": [
  {
   "cell_type": "code",
   "execution_count": 3,
   "id": "6331c9a0-4f6a-4fe5-a8de-b370df6015f4",
   "metadata": {},
   "outputs": [],
   "source": [
    "#####################################################################################################################################\n",
    "##                                                                                                                                 ##\n",
    "##                                                                                                                                 ## \n",
    "##                                                    RAIRS Spectrum                                                               ##\n",
    "##                                                                                                                                 ##\n",
    "##                                                                                                                                 ##\n",
    "##                                                                                                                                 ##   \n",
    "#####################################################################################################################################\n",
    "from scipy import signal\n",
    "import numpy as np\n",
    "import pandas as pd\n",
    "import math as m\n",
    "import matplotlib\n",
    "import matplotlib.pyplot as plt\n",
    "from scipy.stats import norm\n",
    "import os\n",
    "from sympy.abc import c,m"
   ]
  },
  {
   "cell_type": "code",
   "execution_count": 4,
   "id": "936af215-3b02-456c-89f6-9bc85fa966fb",
   "metadata": {},
   "outputs": [],
   "source": [
    "\n",
    "os.chdir(\"C:/Users/renea/Desktop/\")\n"
   ]
  },
  {
   "cell_type": "code",
   "execution_count": 6,
   "id": "372b57cf-8fb7-476f-81e8-382bd43b7f5c",
   "metadata": {},
   "outputs": [
    {
     "data": {
      "image/png": "[encoded data removed]",
      "text/plain": [
       "<Figure size 432x288 with 1 Axes>"
      ]
     },
     "metadata": {
      "needs_background": "light"
     },
     "output_type": "display_data"
    }
   ],
   "source": [
    "#####################################################################################################################################\n",
    "##                                                                                                                                 ## \n",
    "##                                                        RAIRS Positive tone                                                                 ##\n",
    "##                                                                                                                                 ##\n",
    "#####################################################################################################################################\n",
    "import os\n",
    "\n",
    "DataIR = pd.read_csv(\"LT-01-MUDA-Cu10_BTC10.DPT\", sep=',')\n",
    "\n",
    "DataIR = DataIR.to_numpy()\n",
    "\n",
    "\n",
    "DataIR = DataIR[0:,0:]\n",
    "\n",
    "\n",
    "x = DataIR[0:,0]*(-1)\n",
    "\n",
    "\n",
    "\n",
    "y = DataIR[0:,1]\n",
    "\n",
    "\n",
    "\n",
    "plt.plot(x,y, linewidth = 2)\n",
    "\n",
    "\n",
    "plt.xlim(-1850,-880)\n",
    "plt.ylim(0.48,1.05)\n",
    "\n",
    "plt.yticks([]) # to hide the ticks in the y axis\n",
    "\n",
    "\n",
    "#Assignation of the bands presents in the plot\n",
    "\n",
    "plt.vlines(-1385, ymin = 0.1, ymax = 1.015 ,linestyle = \"-\", linewidth=10.5, colors =\"c\", alpha=0.25)\n",
    "plt.vlines(-1453, ymin = 0.1, ymax = 1.015 ,linestyle = \"-\", linewidth=10.5, colors =\"c\", alpha=0.25)\n",
    "plt.vlines(-1570, ymin = 0.1, ymax = 1.015 ,linestyle = \"-\", linewidth=10.5, colors =\"b\", alpha=0.25)\n",
    "plt.vlines(-1620, ymin = 0.1, ymax = 1.015 ,linestyle = \"-\", linewidth=10.5, colors =\"gold\", alpha=0.25)\n",
    "plt.vlines(-1653, ymin = 0.1, ymax = 1.015 ,linestyle = \"-\", linewidth=10.5, colors =\"c\", alpha=0.25)\n",
    "plt.vlines(-1710, ymin = 0.1, ymax = 1.015 ,linestyle = \"-\", linewidth=10.5, colors =\"lime\", alpha=0.25)\n",
    "\n",
    "plt.hlines(xmin = -1350, xmax = -1330, y=0.71 ,linestyle = \"-\", linewidth=10.5, colors =\"b\", alpha=0.25)\n",
    "plt.text(-1310,0.7,\"Carboxylate groups\", rotation = \"360\",fontsize = 12)\n",
    "\n",
    "plt.hlines(xmin = -1350, xmax = -1330, y=0.66 ,linestyle = \"-\", linewidth=10.5, colors =\"gold\", alpha=0.25)\n",
    "plt.text(-1310,0.65,\"Carboxylate groups\", rotation = \"360\",fontsize = 12)\n",
    "plt.text(-1310,0.60,\"with modified geometry\", rotation = \"360\",fontsize = 12)\n",
    "\n",
    "plt.hlines(xmin = -1350, xmax = -1330, y=0.56 ,linestyle = \"-\", linewidth=10.5, colors =\"lime\", alpha=0.25)\n",
    "plt.text(-1310,0.55,\"Free acids\", rotation = \"360\",fontsize = 12)\n",
    "\n",
    "plt.hlines(xmin = -1350, xmax = -1330, y=0.51 ,linestyle = \"-\", linewidth=10.5, colors =\"c\", alpha=0.25)\n",
    "plt.text(-1310,0.50,\"X band\", rotation = \"360\",fontsize = 12)\n",
    "\n",
    "plt.xlabel(\"Wavelenght (1/cm)\", color = \"black\", family = \"Serif\", fontsize = 12)\n",
    "plt.ylabel(\"R/R\\u2080\", color = \"black\", family = \"Serif\", fontsize = 12)\n",
    "\n",
    "plt.vlines(-1840, ymin = 0.5, ymax = 0.7 ,linestyle = \"-\", linewidth=1.5, colors =\"k\")\n",
    "plt.text(-1820,0.6, \"20%\", rotation = \"360\",fontsize = 12)\n",
    "\n",
    "plt.savefig(\"C:/Users/renea/Desktop/RAIRS_model_1.png\", dpi=350)"
   ]
  },
  {
   "cell_type": "code",
   "execution_count": null,
   "id": "b6c011a5-ae74-4384-b4c3-409b49398a12",
   "metadata": {},
   "outputs": [],
   "source": []
  }
 ],
 "metadata": {
  "kernelspec": {
   "display_name": "Python 3 (ipykernel)",
   "language": "python",
   "name": "python3"
  },
  "language_info": {
   "codemirror_mode": {
    "name": "ipython",
    "version": 3
   },
   "file_extension": ".py",
   "mimetype": "text/x-python",
   "name": "python",
   "nbconvert_exporter": "python",
   "pygments_lexer": "ipython3",
   "version": "3.9.7"
  }
 },
 "nbformat": 4,
 "nbformat_minor": 5
}
